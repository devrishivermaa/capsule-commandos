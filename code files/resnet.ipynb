{
 "cells": [
  {
   "cell_type": "code",
   "execution_count": 1,
   "id": "a1626ded-153c-40bc-898b-d8dd5bec872e",
   "metadata": {},
   "outputs": [],
   "source": [
    "import zipfile\n",
    "import os"
   ]
  },
  {
   "cell_type": "code",
   "execution_count": 2,
   "id": "01a10a4b-d3f1-43b6-a1a4-993b076674a3",
   "metadata": {},
   "outputs": [
    {
     "name": "stdout",
     "output_type": "stream",
     "text": [
      "Training and validation directories already exist. Skipping extraction.\n"
     ]
    }
   ],
   "source": [
    "dataset_zip = \"C:\\\\Users\\\\Dhruv\\\\Downloads\\\\Dataset.zip\"\n",
    "dataset_dir = \"C:\\\\Users\\\\Dhruv\\\\Downloads\\\\Dataset\"\n",
    "training_dir = os.path.join(dataset_dir, \"training\")\n",
    "validation_dir = os.path.join(dataset_dir, \"validation\")\n",
    "\n",
    "# Check if training and validation directories exist\n",
    "if not os.path.exists(training_dir) or not os.path.exists(validation_dir):\n",
    "    print(\"Training or validation directory does not exist. Extracting the dataset...\")\n",
    "    with zipfile.ZipFile(dataset_zip, \"r\") as z:\n",
    "        z.extractall(dataset_dir)\n",
    "else:\n",
    "    print(\"Training and validation directories already exist. Skipping extraction.\")"
   ]
  },
  {
   "cell_type": "code",
   "execution_count": 3,
   "id": "6f14d91a-fc7e-40e7-a061-fb862df45067",
   "metadata": {},
   "outputs": [],
   "source": [
    "import os\n",
    "import numpy as np\n",
    "import pandas as pd\n",
    "import tensorflow as tf\n",
    "from tensorflow.keras.applications import ResNet50\n",
    "from tensorflow.keras.applications.resnet50 import preprocess_input\n",
    "from tensorflow.keras.models import Model\n",
    "from tensorflow.keras.layers import Dense, GlobalAveragePooling2D\n",
    "from tensorflow.keras.optimizers import Adam\n",
    "from tensorflow.keras.utils import to_categorical\n",
    "from sklearn.utils import class_weight\n",
    "from sklearn.metrics import confusion_matrix, classification_report, roc_curve, auc\n",
    "import matplotlib.pyplot as plt\n",
    "import seaborn as sns\n",
    "     "
   ]
  },
  {
   "cell_type": "code",
   "execution_count": 4,
   "id": "302556a9-edb7-4b13-a8ea-ac2b3f2a7e47",
   "metadata": {},
   "outputs": [
    {
     "name": "stdout",
     "output_type": "stream",
     "text": [
      "Defaulting to user installation because normal site-packages is not writeable\n",
      "Requirement already satisfied: openpyxl in c:\\users\\dhruv\\appdata\\roaming\\python\\python312\\site-packages (3.1.5)\n",
      "Requirement already satisfied: et-xmlfile in c:\\users\\dhruv\\appdata\\roaming\\python\\python312\\site-packages (from openpyxl) (1.1.0)\n"
     ]
    },
    {
     "name": "stderr",
     "output_type": "stream",
     "text": [
      "DEPRECATION: Loading egg at c:\\program files\\python312\\lib\\site-packages\\vboxapi-1.0-py3.12.egg is deprecated. pip 24.3 will enforce this behaviour change. A possible replacement is to use pip for package installation.. Discussion can be found at https://github.com/pypa/pip/issues/12330\n",
      "\n",
      "[notice] A new release of pip is available: 24.0 -> 24.2\n",
      "[notice] To update, run: python.exe -m pip install --upgrade pip\n"
     ]
    }
   ],
   "source": [
    "!pip install openpyxl"
   ]
  },
  {
   "cell_type": "code",
   "execution_count": null,
   "id": "29762a5d-4297-49d8-aec6-ca5fe68d2d6d",
   "metadata": {},
   "outputs": [
    {
     "name": "stdout",
     "output_type": "stream",
     "text": [
      "Found 37607 files belonging to 10 classes.\n",
      "Found 16132 files belonging to 10 classes.\n",
      "Epoch 1/10\n",
      "\u001b[1m 115/1176\u001b[0m \u001b[32m━\u001b[0m\u001b[37m━━━━━━━━━━━━━━━━━━━\u001b[0m \u001b[1m22:55\u001b[0m 1s/step - accuracy: 0.2256 - loss: 2.3815"
     ]
    }
   ],
   "source": [
    "def plot_confusion_matrix(cm, class_names):\n",
    "    plt.figure(figsize=(12, 10))\n",
    "    sns.heatmap(cm, annot=True, fmt=\".2f\", cmap='Blues', xticklabels=class_names, yticklabels=class_names)\n",
    "    plt.ylabel('True label')\n",
    "    plt.xlabel('Predicted label')\n",
    "    plt.title('Normalized Confusion Matrix')\n",
    "    plt.show()\n",
    "\n",
    "def plot_roc_curves(y_true, y_pred, class_names):\n",
    "    plt.figure(figsize=(12, 8))\n",
    "    for i, class_name in enumerate(class_names):\n",
    "        fpr, tpr, _ = roc_curve(y_true[:, i], y_pred[:, i])\n",
    "        roc_auc = auc(fpr, tpr)\n",
    "        plt.plot(fpr, tpr, label=f'{class_name} (AUC = {roc_auc:.2f})')\n",
    "    plt.plot([0, 1], [0, 1], 'k--')\n",
    "    plt.xlim([-0.01, 1.01])\n",
    "    plt.ylim([-0.01, 1.01])\n",
    "    plt.xlabel('False Positive Rate')\n",
    "    plt.ylabel('True Positive Rate')\n",
    "    plt.title('Multi-class ROC Curve')\n",
    "    plt.legend(loc='lower right')\n",
    "    plt.show()\n",
    "\n",
    "if __name__ == \"__main__\":\n",
    "    # Set parameters\n",
    "    base_dir = r\"C:\\Users\\Dhruv\\Downloads\\Dataset\"\n",
    "    train_dir = os.path.join(base_dir, 'training')\n",
    "    val_dir = os.path.join(base_dir, 'validation')\n",
    "    image_size = (224, 224)\n",
    "    batch_size = 32\n",
    "    epochs = 10\n",
    "    class_names = ['Angioectasia', 'Bleeding', 'Erosion', 'Erythema', 'Foreign Body', 'Lymphangiectasia', 'Normal', 'Polyp', 'Ulcer', 'Worms']\n",
    "\n",
    "    # Create training and validation datasets\n",
    "    train_dataset = tf.keras.utils.image_dataset_from_directory(\n",
    "        train_dir,\n",
    "        labels='inferred',\n",
    "        label_mode='categorical',\n",
    "        class_names=class_names,\n",
    "        image_size=image_size,\n",
    "        batch_size=batch_size,\n",
    "        shuffle=True,\n",
    "        seed=123\n",
    "    )\n",
    "\n",
    "    val_dataset = tf.keras.utils.image_dataset_from_directory(\n",
    "        val_dir,\n",
    "        labels='inferred',\n",
    "        label_mode='categorical',\n",
    "        class_names=class_names,\n",
    "        image_size=image_size,\n",
    "        batch_size=batch_size,\n",
    "        shuffle=False\n",
    "    )\n",
    "\n",
    "    # Prefetching data for performance optimization\n",
    "    AUTOTUNE = tf.data.AUTOTUNE\n",
    "    train_dataset = train_dataset.prefetch(buffer_size=AUTOTUNE)\n",
    "    val_dataset = val_dataset.prefetch(buffer_size=AUTOTUNE)\n",
    "\n",
    "    # Calculate class weights to handle class imbalance\n",
    "    train_labels = np.concatenate([y for x, y in train_dataset], axis=0)\n",
    "    train_labels_numeric = np.argmax(train_labels, axis=1)\n",
    "    class_weights = class_weight.compute_class_weight(\n",
    "        class_weight='balanced',\n",
    "        classes=np.unique(train_labels_numeric),\n",
    "        y=train_labels_numeric\n",
    "    )\n",
    "    class_weights_dict = dict(enumerate(class_weights))\n",
    "\n",
    "    # Build the model\n",
    "    base_model = ResNet50(weights='imagenet', include_top=False, input_shape=(image_size[0], image_size[1], 3))\n",
    "    base_model.trainable = False  # Freeze the base model\n",
    "\n",
    "    inputs = tf.keras.Input(shape=(image_size[0], image_size[1], 3))\n",
    "    x = preprocess_input(inputs)\n",
    "    x = base_model(x, training=False)\n",
    "    x = GlobalAveragePooling2D()(x)\n",
    "    x = Dense(512, activation='relu')(x)\n",
    "    outputs = Dense(len(class_names), activation='softmax')(x)\n",
    "    model = Model(inputs, outputs)\n",
    "\n",
    "    # Compile the model\n",
    "    model.compile(optimizer=Adam(learning_rate=0.0001), loss='categorical_crossentropy', metrics=['accuracy'])\n",
    "\n",
    "    # Train the model\n",
    "    history = model.fit(\n",
    "        train_dataset,\n",
    "        validation_data=val_dataset,\n",
    "        epochs=epochs,\n",
    "        class_weight=class_weights_dict\n",
    "    )\n",
    "\n",
    "    # Evaluate the model\n",
    "    val_predictions = model.predict(val_dataset)\n",
    "    y_true = np.concatenate([y for x, y in val_dataset], axis=0)\n",
    "    y_pred_classes = np.argmax(val_predictions, axis=1)\n",
    "    y_true_classes = np.argmax(y_true, axis=1)\n",
    "\n",
    "    # Confusion matrix\n",
    "    cm = confusion_matrix(y_true_classes, y_pred_classes, normalize='true')\n",
    "    plot_confusion_matrix(cm, class_names)\n",
    "\n",
    "    # Classification report\n",
    "    report = classification_report(y_true_classes, y_pred_classes, target_names=class_names)\n",
    "    print(\"Classification Report:\\n\", report)\n",
    "\n",
    "    # ROC Curves\n",
    "    plot_roc_curves(y_true, val_predictions, class_names)\n",
    "\n",
    "    # Save predictions to Excel\n",
    "    val_file_paths = []\n",
    "    for batch in val_dataset:\n",
    "        for file_path in batch[0]._keras_mask:\n",
    "            val_file_paths.append(file_path.numpy())\n",
    "\n",
    "    results_df = pd.DataFrame({\n",
    "        'Image_path': val_dataset.file_paths,\n",
    "        'Actual_class': [class_names[i] for i in y_true_classes],\n",
    "        'Predicted_class': [class_names[i] for i in y_pred_classes]\n",
    "    })\n",
    "    results_file_path = os.path.join(base_dir, \"results.xlsx\")\n",
    "    results_df.to_excel(results_file_path, index=False)"
   ]
  },
  {
   "cell_type": "code",
   "execution_count": null,
   "id": "87591d6f-14f9-45ed-becb-7780261f54fe",
   "metadata": {},
   "outputs": [],
   "source": []
  }
 ],
 "metadata": {
  "kernelspec": {
   "display_name": "cuda_env",
   "language": "python",
   "name": "cuda_env"
  },
  "language_info": {
   "codemirror_mode": {
    "name": "ipython",
    "version": 3
   },
   "file_extension": ".py",
   "mimetype": "text/x-python",
   "name": "python",
   "nbconvert_exporter": "python",
   "pygments_lexer": "ipython3",
   "version": "3.12.3"
  }
 },
 "nbformat": 4,
 "nbformat_minor": 5
}
